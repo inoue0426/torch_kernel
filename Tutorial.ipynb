{
 "cells": [
  {
   "cell_type": "code",
   "execution_count": 1,
   "id": "9fdc9799",
   "metadata": {},
   "outputs": [],
   "source": [
    "import torch\n",
    "import torch.nn as nn\n",
    "import torch.optim as optim\n",
    "\n",
    "from torch.utils.data import DataLoader, TensorDataset"
   ]
  },
  {
   "cell_type": "code",
   "execution_count": 2,
   "id": "73288f37",
   "metadata": {},
   "outputs": [],
   "source": [
    "from torch_kernel import PairwiseKernels"
   ]
  },
  {
   "cell_type": "code",
   "execution_count": 3,
   "id": "78dbbf1f",
   "metadata": {},
   "outputs": [
    {
     "data": {
      "text/plain": [
       "['rbf', 'polynomial', 'poly', 'sigmoid', 'sig', 'laplacian', 'lap']"
      ]
     },
     "execution_count": 3,
     "metadata": {},
     "output_type": "execute_result"
    }
   ],
   "source": [
    "PairwiseKernels().get_supported_kernels()"
   ]
  },
  {
   "cell_type": "code",
   "execution_count": 4,
   "id": "9f4e8278",
   "metadata": {},
   "outputs": [],
   "source": [
    "X = torch.randn(4, 5, 3)\n",
    "Y = torch.randn(4, 6, 3)\n",
    "\n",
    "target_distances = torch.rand(4, 5, 6)"
   ]
  },
  {
   "cell_type": "code",
   "execution_count": 5,
   "id": "97c39043",
   "metadata": {
    "scrolled": true
   },
   "outputs": [
    {
     "name": "stdout",
     "output_type": "stream",
     "text": [
      "Shape of X: torch.Size([4, 5, 3])\n",
      "Shape of Y: torch.Size([4, 6, 3])\n"
     ]
    }
   ],
   "source": [
    "print(\"Shape of X:\", X.shape)\n",
    "print(\"Shape of Y:\", Y.shape)"
   ]
  },
  {
   "cell_type": "code",
   "execution_count": 6,
   "id": "981f9ec4",
   "metadata": {
    "scrolled": true
   },
   "outputs": [
    {
     "name": "stdout",
     "output_type": "stream",
     "text": [
      "Shape of target_distances: torch.Size([4, 5, 6])\n"
     ]
    },
    {
     "data": {
      "text/plain": [
       "tensor([[[0.9431, 0.9307, 0.8503, 0.1672, 0.9687, 0.8382],\n",
       "         [0.5652, 0.0800, 0.0974, 0.7348, 0.3079, 0.5177],\n",
       "         [0.0159, 0.5067, 0.0705, 0.3209, 0.0652, 0.6710],\n",
       "         [0.9311, 0.4791, 0.6770, 0.9192, 0.8892, 0.8913],\n",
       "         [0.7846, 0.7799, 0.9115, 0.3300, 0.4207, 0.9435]],\n",
       "\n",
       "        [[0.7921, 0.7114, 0.2181, 0.1671, 0.0963, 0.5706],\n",
       "         [0.6496, 0.9748, 0.4917, 0.8646, 0.0377, 0.8998],\n",
       "         [0.5888, 0.0536, 0.0103, 0.6518, 0.4563, 0.2831],\n",
       "         [0.5478, 0.2979, 0.3496, 0.5994, 0.8788, 0.5348],\n",
       "         [0.0581, 0.3304, 0.2037, 0.1695, 0.4170, 0.9983]],\n",
       "\n",
       "        [[0.9273, 0.0015, 0.3920, 0.8693, 0.5749, 0.7300],\n",
       "         [0.2104, 0.1656, 0.2976, 0.8038, 0.3033, 0.3612],\n",
       "         [0.4397, 0.9469, 0.5131, 0.6371, 0.7480, 0.1210],\n",
       "         [0.4536, 0.1759, 0.6948, 0.4403, 0.1702, 0.0955],\n",
       "         [0.0304, 0.4310, 0.0171, 0.0601, 0.4340, 0.1746]],\n",
       "\n",
       "        [[0.7635, 0.0943, 0.5361, 0.5411, 0.3277, 0.8124],\n",
       "         [0.3609, 0.0687, 0.2362, 0.4757, 0.6157, 0.2244],\n",
       "         [0.7700, 0.4522, 0.8224, 0.6921, 0.4419, 0.2345],\n",
       "         [0.6211, 0.3242, 0.0260, 0.1676, 0.4918, 0.9986],\n",
       "         [0.0723, 0.9533, 0.7347, 0.6260, 0.4788, 0.6085]]])"
      ]
     },
     "execution_count": 6,
     "metadata": {},
     "output_type": "execute_result"
    }
   ],
   "source": [
    "print(\"Shape of target_distances:\", target_distances.shape)\n",
    "target_distances"
   ]
  },
  {
   "cell_type": "code",
   "execution_count": 7,
   "id": "a771ff78",
   "metadata": {},
   "outputs": [
    {
     "name": "stdout",
     "output_type": "stream",
     "text": [
      "Epoch [10/100], Loss: 0.2718\n",
      "Epoch [20/100], Loss: 0.2647\n",
      "Epoch [30/100], Loss: 0.2555\n",
      "Epoch [40/100], Loss: 0.2429\n",
      "Epoch [50/100], Loss: 0.2248\n",
      "Epoch [60/100], Loss: 0.1976\n",
      "Epoch [70/100], Loss: 0.1627\n",
      "Epoch [80/100], Loss: 0.1626\n",
      "Epoch [90/100], Loss: 0.1591\n",
      "Epoch [100/100], Loss: 0.1581\n"
     ]
    }
   ],
   "source": [
    "model = PairwiseKernels()\n",
    "\n",
    "# Define the loss function and optimizer\n",
    "criterion = nn.MSELoss()\n",
    "optimizer = optim.Adam(model.parameters(), lr=0.01)\n",
    "\n",
    "# Training loop\n",
    "num_epochs = 100\n",
    "for epoch in range(num_epochs):\n",
    "    # Model predictions\n",
    "    outputs = model(X, Y, metric=\"rbf\")\n",
    "\n",
    "    # Calculate the loss\n",
    "    loss = criterion(outputs, target_distances)\n",
    "\n",
    "    # Reset the gradients\n",
    "    optimizer.zero_grad()\n",
    "\n",
    "    # Compute the gradients and update the parameters\n",
    "    loss.backward()\n",
    "    optimizer.step()\n",
    "\n",
    "    # Print the loss\n",
    "    if (epoch+1) % 10 == 0:\n",
    "        print(f'Epoch [{epoch+1}/{num_epochs}], Loss: {loss.item():.4f}')\n",
    "\n",
    "# Display the learned covariance matrix\n",
    "# print(\"Learned covariance matrix (S):\\n\", model.kernels[\"mahalanobis\"].S)"
   ]
  },
  {
   "cell_type": "code",
   "execution_count": 8,
   "id": "1b75f346",
   "metadata": {},
   "outputs": [
    {
     "name": "stdout",
     "output_type": "stream",
     "text": [
      "Epoch [10/100], Loss: 0.2718\n",
      "Epoch [20/100], Loss: 0.2647\n",
      "Epoch [30/100], Loss: 0.2555\n",
      "Epoch [40/100], Loss: 0.2429\n",
      "Epoch [50/100], Loss: 0.2248\n",
      "Epoch [60/100], Loss: 0.1976\n",
      "Epoch [70/100], Loss: 0.1627\n",
      "Epoch [80/100], Loss: 0.1626\n",
      "Epoch [90/100], Loss: 0.1591\n",
      "Epoch [100/100], Loss: 0.1581\n"
     ]
    }
   ],
   "source": [
    "model = PairwiseKernels()\n",
    "\n",
    "# Define the loss function and optimizer\n",
    "criterion = nn.MSELoss()\n",
    "optimizer = optim.Adam(model.parameters(), lr=0.01)\n",
    "\n",
    "# Training loop\n",
    "num_epochs = 100\n",
    "for epoch in range(num_epochs):\n",
    "    # Model predictions\n",
    "    outputs = model(X, Y, metric=\"rbf\")\n",
    "\n",
    "    # Calculate the loss\n",
    "    loss = criterion(outputs, target_distances)\n",
    "\n",
    "    # Reset the gradients\n",
    "    optimizer.zero_grad()\n",
    "\n",
    "    # Compute the gradients and update the parameters\n",
    "    loss.backward()\n",
    "    optimizer.step()\n",
    "\n",
    "    # Print the loss\n",
    "    if (epoch+1) % 10 == 0:\n",
    "        print(f'Epoch [{epoch+1}/{num_epochs}], Loss: {loss.item():.4f}')\n",
    "\n",
    "# Display the learned covariance matrix\n",
    "# print(\"Learned covariance matrix (S):\\n\", model.kernels[\"mahalanobis\"].S)"
   ]
  },
  {
   "cell_type": "code",
   "execution_count": 9,
   "id": "288de6a8",
   "metadata": {},
   "outputs": [
    {
     "name": "stdout",
     "output_type": "stream",
     "text": [
      "Epoch [10/100], Loss: 1298.0793\n",
      "Epoch [20/100], Loss: 699.7322\n",
      "Epoch [30/100], Loss: 399.4066\n",
      "Epoch [40/100], Loss: 248.3260\n",
      "Epoch [50/100], Loss: 167.9920\n",
      "Epoch [60/100], Loss: 121.7482\n",
      "Epoch [70/100], Loss: 92.8758\n",
      "Epoch [80/100], Loss: 73.5232\n",
      "Epoch [90/100], Loss: 59.7948\n",
      "Epoch [100/100], Loss: 49.6258\n"
     ]
    }
   ],
   "source": [
    "model = PairwiseKernels()\n",
    "\n",
    "# Define the loss function and optimizer\n",
    "criterion = nn.MSELoss()\n",
    "optimizer = optim.Adam(model.parameters(), lr=0.01)\n",
    "\n",
    "# Training loop\n",
    "num_epochs = 100\n",
    "for epoch in range(num_epochs):\n",
    "    # Model predictions\n",
    "    outputs = model(X, Y, metric=\"poly\")\n",
    "\n",
    "    # Calculate the loss\n",
    "    loss = criterion(outputs, target_distances)\n",
    "\n",
    "    # Reset the gradients\n",
    "    optimizer.zero_grad()\n",
    "\n",
    "    # Compute the gradients and update the parameters\n",
    "    loss.backward()\n",
    "    optimizer.step()\n",
    "\n",
    "    # Print the loss\n",
    "    if (epoch+1) % 10 == 0:\n",
    "        print(f'Epoch [{epoch+1}/{num_epochs}], Loss: {loss.item():.4f}')\n",
    "\n",
    "# Display the learned covariance matrix\n",
    "# print(\"Learned covariance matrix (S):\\n\", model.kernels[\"mahalanobis\"].S)"
   ]
  },
  {
   "cell_type": "code",
   "execution_count": 10,
   "id": "ed4531f1",
   "metadata": {
    "scrolled": true
   },
   "outputs": [
    {
     "name": "stdout",
     "output_type": "stream",
     "text": [
      "Epoch [10/100], Loss: 0.7298\n",
      "Epoch [20/100], Loss: 0.6331\n",
      "Epoch [30/100], Loss: 0.5273\n",
      "Epoch [40/100], Loss: 0.4152\n",
      "Epoch [50/100], Loss: 0.3046\n",
      "Epoch [60/100], Loss: 0.2086\n",
      "Epoch [70/100], Loss: 0.1434\n",
      "Epoch [80/100], Loss: 0.1123\n",
      "Epoch [90/100], Loss: 0.1006\n",
      "Epoch [100/100], Loss: 0.0951\n"
     ]
    }
   ],
   "source": [
    "model = PairwiseKernels()\n",
    "\n",
    "# Define the loss function and optimizer\n",
    "criterion = nn.MSELoss()\n",
    "optimizer = optim.Adam(model.parameters(), lr=0.01)\n",
    "\n",
    "# Training loop\n",
    "num_epochs = 100\n",
    "for epoch in range(num_epochs):\n",
    "    # Model predictions\n",
    "    outputs = model(X, Y, metric=\"sig\")\n",
    "\n",
    "    # Calculate the loss\n",
    "    loss = criterion(outputs, target_distances)\n",
    "\n",
    "    # Reset the gradients\n",
    "    optimizer.zero_grad()\n",
    "\n",
    "    # Compute the gradients and update the parameters\n",
    "    loss.backward()\n",
    "    optimizer.step()\n",
    "\n",
    "    # Print the loss\n",
    "    if (epoch+1) % 10 == 0:\n",
    "        print(f'Epoch [{epoch+1}/{num_epochs}], Loss: {loss.item():.4f}')\n",
    "\n",
    "# Display the learned covariance matrix\n",
    "# print(\"Learned covariance matrix (S):\\n\", model.kernels[\"mahalanobis\"].S)"
   ]
  },
  {
   "cell_type": "code",
   "execution_count": 11,
   "id": "b3066a5f",
   "metadata": {
    "scrolled": true
   },
   "outputs": [
    {
     "name": "stdout",
     "output_type": "stream",
     "text": [
      "Epoch [10/100], Loss: 0.2062\n",
      "Epoch [20/100], Loss: 0.1896\n",
      "Epoch [30/100], Loss: 0.1709\n",
      "Epoch [40/100], Loss: 0.1508\n",
      "Epoch [50/100], Loss: 0.1317\n",
      "Epoch [60/100], Loss: 0.1186\n",
      "Epoch [70/100], Loss: 0.1150\n",
      "Epoch [80/100], Loss: 0.1156\n",
      "Epoch [90/100], Loss: 0.1152\n",
      "Epoch [100/100], Loss: 0.1150\n"
     ]
    }
   ],
   "source": [
    "model = PairwiseKernels()\n",
    "\n",
    "# Define the loss function and optimizer\n",
    "criterion = nn.MSELoss()\n",
    "optimizer = optim.Adam(model.parameters(), lr=0.01)\n",
    "\n",
    "# Training loop\n",
    "num_epochs = 100\n",
    "for epoch in range(num_epochs):\n",
    "    # Model predictions\n",
    "    outputs = model(X, Y, metric=\"lap\")\n",
    "\n",
    "    # Calculate the loss\n",
    "    loss = criterion(outputs, target_distances)\n",
    "\n",
    "    # Reset the gradients\n",
    "    optimizer.zero_grad()\n",
    "\n",
    "    # Compute the gradients and update the parameters\n",
    "    loss.backward()\n",
    "    optimizer.step()\n",
    "\n",
    "    # Print the loss\n",
    "    if (epoch+1) % 10 == 0:\n",
    "        print(f'Epoch [{epoch+1}/{num_epochs}], Loss: {loss.item():.4f}')\n",
    "\n",
    "# Display the learned covariance matrix\n",
    "# print(\"Learned covariance matrix (S):\\n\", model.kernels[\"mahalanobis\"].S)"
   ]
  },
  {
   "cell_type": "code",
   "execution_count": null,
   "id": "cfbb5506",
   "metadata": {
    "scrolled": true
   },
   "outputs": [],
   "source": []
  },
  {
   "cell_type": "code",
   "execution_count": null,
   "id": "871974b0",
   "metadata": {},
   "outputs": [],
   "source": []
  }
 ],
 "metadata": {
  "kernelspec": {
   "display_name": "torch",
   "language": "python",
   "name": "torch"
  },
  "language_info": {
   "codemirror_mode": {
    "name": "ipython",
    "version": 3
   },
   "file_extension": ".py",
   "mimetype": "text/x-python",
   "name": "python",
   "nbconvert_exporter": "python",
   "pygments_lexer": "ipython3",
   "version": "3.10.14"
  }
 },
 "nbformat": 4,
 "nbformat_minor": 5
}
